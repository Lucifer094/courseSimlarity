{
 "cells": [
  {
   "cell_type": "markdown",
   "metadata": {},
   "source": [
    "## 格式转换 "
   ]
  },
  {
   "cell_type": "code",
   "execution_count": 62,
   "metadata": {},
   "outputs": [
    {
     "ename": "NameError",
     "evalue": "name 'PDFDocument' is not defined",
     "output_type": "error",
     "traceback": [
      "\u001b[1;31m---------------------------------------------------------------------------\u001b[0m",
      "\u001b[1;31mNameError\u001b[0m                                 Traceback (most recent call last)",
      "\u001b[1;32m<ipython-input-62-6d4ce236bc01>\u001b[0m in \u001b[0;36m<module>\u001b[1;34m\u001b[0m\n\u001b[0;32m      2\u001b[0m \u001b[0msource_path\u001b[0m \u001b[1;33m=\u001b[0m \u001b[1;34mr'D:\\zhangxin\\Course\\data\\standard\\pdf'\u001b[0m\u001b[1;33m\u001b[0m\u001b[1;33m\u001b[0m\u001b[0m\n\u001b[0;32m      3\u001b[0m \u001b[0mstore_path\u001b[0m \u001b[1;33m=\u001b[0m \u001b[1;34mr'D:\\zhangxin\\Course\\data\\standard\\txt'\u001b[0m\u001b[1;33m\u001b[0m\u001b[1;33m\u001b[0m\u001b[0m\n\u001b[1;32m----> 4\u001b[1;33m \u001b[0mformat\u001b[0m\u001b[1;33m.\u001b[0m\u001b[0mtransform_to_txt\u001b[0m\u001b[1;33m(\u001b[0m\u001b[0msource_path\u001b[0m\u001b[1;33m,\u001b[0m \u001b[0mstore_path\u001b[0m\u001b[1;33m)\u001b[0m\u001b[1;33m\u001b[0m\u001b[1;33m\u001b[0m\u001b[0m\n\u001b[0m",
      "\u001b[1;32mD:\\zhangxin\\Course\\format.py\u001b[0m in \u001b[0;36mtransform_to_txt\u001b[1;34m(source_path, store_path)\u001b[0m\n\u001b[0;32m    129\u001b[0m             \u001b[0mfile_name\u001b[0m \u001b[1;33m=\u001b[0m \u001b[0mre\u001b[0m\u001b[1;33m.\u001b[0m\u001b[0msub\u001b[0m\u001b[1;33m(\u001b[0m\u001b[1;34mr'pdf'\u001b[0m\u001b[1;33m,\u001b[0m \u001b[1;34m'txt'\u001b[0m\u001b[1;33m,\u001b[0m \u001b[0mfile_name\u001b[0m\u001b[1;33m)\u001b[0m\u001b[1;33m\u001b[0m\u001b[1;33m\u001b[0m\u001b[0m\n\u001b[0;32m    130\u001b[0m             \u001b[0mstore_file_path\u001b[0m \u001b[1;33m=\u001b[0m \u001b[0mstore_path\u001b[0m \u001b[1;33m+\u001b[0m \u001b[1;34mr'/'\u001b[0m \u001b[1;33m+\u001b[0m \u001b[0mfile_name\u001b[0m\u001b[1;33m\u001b[0m\u001b[1;33m\u001b[0m\u001b[0m\n\u001b[1;32m--> 131\u001b[1;33m             \u001b[0mpdf_to_txt\u001b[0m\u001b[1;33m(\u001b[0m\u001b[0msource_file_path\u001b[0m\u001b[1;33m,\u001b[0m \u001b[0mstore_file_path\u001b[0m\u001b[1;33m)\u001b[0m\u001b[1;33m\u001b[0m\u001b[1;33m\u001b[0m\u001b[0m\n\u001b[0m\u001b[0;32m    132\u001b[0m         \u001b[1;32melse\u001b[0m\u001b[1;33m:\u001b[0m\u001b[1;33m\u001b[0m\u001b[1;33m\u001b[0m\u001b[0m\n\u001b[0;32m    133\u001b[0m             \u001b[0mprint\u001b[0m\u001b[1;33m(\u001b[0m\u001b[0mtype_name\u001b[0m\u001b[1;33m)\u001b[0m\u001b[1;33m\u001b[0m\u001b[1;33m\u001b[0m\u001b[0m\n",
      "\u001b[1;32mD:\\zhangxin\\Course\\format.py\u001b[0m in \u001b[0;36mpdf_to_txt\u001b[1;34m(source_file_path, store_file_path)\u001b[0m\n\u001b[0;32m     68\u001b[0m     \u001b[0mparser\u001b[0m \u001b[1;33m=\u001b[0m \u001b[0mPDFParser\u001b[0m\u001b[1;33m(\u001b[0m\u001b[0mpdf0\u001b[0m\u001b[1;33m)\u001b[0m\u001b[1;33m\u001b[0m\u001b[1;33m\u001b[0m\u001b[0m\n\u001b[0;32m     69\u001b[0m     \u001b[1;31m# 创建一个PDF文档对象\u001b[0m\u001b[1;33m\u001b[0m\u001b[1;33m\u001b[0m\u001b[1;33m\u001b[0m\u001b[0m\n\u001b[1;32m---> 70\u001b[1;33m     \u001b[0mdoc\u001b[0m \u001b[1;33m=\u001b[0m \u001b[0mPDFDocument\u001b[0m\u001b[1;33m(\u001b[0m\u001b[1;33m)\u001b[0m\u001b[1;33m\u001b[0m\u001b[1;33m\u001b[0m\u001b[0m\n\u001b[0m\u001b[0;32m     71\u001b[0m     \u001b[1;31m# 连接两者\u001b[0m\u001b[1;33m\u001b[0m\u001b[1;33m\u001b[0m\u001b[1;33m\u001b[0m\u001b[0m\n\u001b[0;32m     72\u001b[0m     \u001b[0mparser\u001b[0m\u001b[1;33m.\u001b[0m\u001b[0mset_document\u001b[0m\u001b[1;33m(\u001b[0m\u001b[0mdoc\u001b[0m\u001b[1;33m)\u001b[0m\u001b[1;33m\u001b[0m\u001b[1;33m\u001b[0m\u001b[0m\n",
      "\u001b[1;31mNameError\u001b[0m: name 'PDFDocument' is not defined"
     ]
    }
   ],
   "source": [
    "import format\n",
    "source_path = r'D:\\zhangxin\\Course\\data\\standard\\pdf'\n",
    "store_path = r'D:\\zhangxin\\Course\\data\\standard\\txt'\n",
    "format.transform_to_txt(source_path, store_path)"
   ]
  },
  {
   "cell_type": "markdown",
   "metadata": {},
   "source": [
    "## 标准点提取 "
   ]
  },
  {
   "cell_type": "code",
   "execution_count": 3,
   "metadata": {},
   "outputs": [],
   "source": [
    "import extractCourse\n",
    "source_path = r'D:\\zhangxin\\Course\\data\\standard\\txt'\n",
    "store_path = r'D:\\zhangxin\\Course\\data\\standard\\point'\n",
    "extractCourse.extract_point(source_path, store_path)"
   ]
  },
  {
   "cell_type": "markdown",
   "metadata": {},
   "source": [
    "## 标准分词 "
   ]
  },
  {
   "cell_type": "code",
   "execution_count": 7,
   "metadata": {
    "scrolled": true
   },
   "outputs": [],
   "source": [
    "import jiebaCut as jc\n",
    "sourcePath = r'D:\\zhangxin\\Course\\data\\standard\\point'\n",
    "dicPath = r'D:\\zhangxin\\Course\\user\\my中文和符号1960.txt'\n",
    "storePath = r'D:\\zhangxin\\Course\\data\\cut\\cutResultSta.csv'\n",
    "jc.cut(sourcePath, dicPath, 'single', storePath, 'one', 'csv')"
   ]
  },
  {
   "cell_type": "markdown",
   "metadata": {},
   "source": [
    "## 导入语料库 "
   ]
  },
  {
   "cell_type": "code",
   "execution_count": 8,
   "metadata": {},
   "outputs": [],
   "source": [
    "import csv\n",
    "import pandas as pd\n",
    "from pandas import DataFrame\n",
    "import numpy as np\n",
    "import warnings\n",
    "warnings.filterwarnings(action='ignore', category=UserWarning, module='gensim')\n",
    "from gensim.models import KeyedVectors"
   ]
  },
  {
   "cell_type": "code",
   "execution_count": 4,
   "metadata": {},
   "outputs": [],
   "source": [
    "szTXcorpus = r\"D:\\zhangxin\\Course\\user\\500000-small.txt\"  # 小语料库\n",
    "wv = KeyedVectors.load_word2vec_format(szTXcorpus, binary=False)"
   ]
  },
  {
   "cell_type": "markdown",
   "metadata": {},
   "source": [
    "## 整理分词结果，删去不在语料库中的词语 "
   ]
  },
  {
   "cell_type": "code",
   "execution_count": 24,
   "metadata": {},
   "outputs": [
    {
     "name": "stdout",
     "output_type": "stream",
     "text": [
      "如求\n",
      "插入排序\n",
      "可维护性\n",
      "堆排序\n",
      "二叉\n",
      "搜索算法\n",
      "图论\n",
      "邻接矩阵\n"
     ]
    }
   ],
   "source": [
    "sourcePath = r'D:\\zhangxin\\Course\\data\\cut\\cutResultSta.csv'\n",
    "file = csv.reader(open(sourcePath, 'r', encoding='utf-8'))\n",
    "standardWords = []\n",
    "for line in file:\n",
    "    flag = False\n",
    "    temp = []\n",
    "    for word in line:\n",
    "        if word is not '':\n",
    "            if flag:\n",
    "                try:\n",
    "                    vector = wv[word]\n",
    "                    temp.append(word)\n",
    "                except:\n",
    "                    print(word)\n",
    "                    continue\n",
    "            else:\n",
    "                temp.append(word)\n",
    "                flag = True\n",
    "        else:\n",
    "            continue\n",
    "    standardWords.append(temp)"
   ]
  },
  {
   "cell_type": "code",
   "execution_count": 25,
   "metadata": {},
   "outputs": [],
   "source": [
    "storePath = r'D:\\zhangxin\\Course\\data\\cut\\cutResultStaUseful.csv'\n",
    "dfWords = pd.DataFrame(data=standardWords)\n",
    "dfWords.to_csv(storePath, index=False, header=False, encoding='utf-8')"
   ]
  },
  {
   "cell_type": "markdown",
   "metadata": {},
   "source": [
    "## 课程标准相似度计算 "
   ]
  },
  {
   "cell_type": "code",
   "execution_count": 41,
   "metadata": {},
   "outputs": [],
   "source": [
    "sourcePath = r'D:\\zhangxin\\Course\\data\\tencent\\cutResultUseful.csv'\n",
    "file = csv.reader(open(sourcePath, 'r', encoding='utf-8'))\n",
    "courseNameList = []\n",
    "courseWords = []\n",
    "for line in file:\n",
    "    flag = False\n",
    "    temp = []\n",
    "    for word in line:\n",
    "        if word is not '':\n",
    "            if flag:\n",
    "                temp.append(word)\n",
    "            else:\n",
    "                courseNameList.append(word)\n",
    "                flag = True\n",
    "        else:\n",
    "            continue\n",
    "    courseWords.append(temp)"
   ]
  },
  {
   "cell_type": "code",
   "execution_count": 46,
   "metadata": {},
   "outputs": [],
   "source": [
    "def countDis(disDF, type=1):\n",
    "    if type == 1:\n",
    "        v0 = np.argmax(disDF, axis=1)\n",
    "        v0 = disDF[range(disDF.shape[0]), v0]\n",
    "        result = v0.sum() / len(v0)\n",
    "    else:\n",
    "        result = 0\n",
    "    return result"
   ]
  },
  {
   "cell_type": "code",
   "execution_count": 43,
   "metadata": {},
   "outputs": [],
   "source": [
    "sourcePath = r'D:\\zhangxin\\Course\\data\\cut\\cutResultStaUseful.csv'\n",
    "file = csv.reader(open(sourcePath, 'r', encoding='utf-8'))\n",
    "standardNameList = []\n",
    "standardWords = []\n",
    "for line in file:\n",
    "    flag = False\n",
    "    temp = []\n",
    "    for word in line:\n",
    "        if word is not '':\n",
    "            if flag:\n",
    "                temp.append(word)\n",
    "            else:\n",
    "                standardNameList.append(word)\n",
    "                flag = True\n",
    "        else:\n",
    "            continue\n",
    "    standardWords.append(temp)"
   ]
  },
  {
   "cell_type": "code",
   "execution_count": 47,
   "metadata": {},
   "outputs": [],
   "source": [
    "courseSimDF = pd.DataFrame(np.zeros((len(standardNameList), len(courseNameList))), index=standardNameList, columns= courseNameList)"
   ]
  },
  {
   "cell_type": "code",
   "execution_count": 48,
   "metadata": {},
   "outputs": [
    {
     "name": "stdout",
     "output_type": "stream",
     "text": [
      "基础数据结构及算法 0\n",
      "上海师范大学 计算机科学与技术 C语言程序设计           0.628981\n",
      "上海师范大学 计算机科学与技术 C语言课程实践           0.652130\n",
      "上海师范大学 计算机科学与技术 UML与设计模式          0.651579\n",
      "上海师范大学 计算机科学与技术 Web程序设计           0.580585\n",
      "上海师范大学 计算机科学与技术 专业英语              0.595542\n",
      "上海师范大学 计算机科学与技术 云计算与物联网           0.600596\n",
      "上海师范大学 计算机科学与技术 信息学科竞赛教育          0.552374\n",
      "上海师范大学 计算机科学与技术 信息安全基础            0.563612\n",
      "上海师范大学 计算机科学与技术 复杂网络与社会计算概论       0.631932\n",
      "上海师范大学 计算机科学与技术 多媒体技术             0.579524\n",
      "上海师范大学 计算机科学与技术 嵌入式系统             0.602951\n",
      "上海师范大学 计算机科学与技术 操作系统              0.610363\n",
      "上海师范大学 计算机科学与技术 数字逻辑              0.587558\n",
      "上海师范大学 计算机科学与技术 数字逻辑课程实践          0.588401\n",
      "上海师范大学 计算机科学与技术 数据库系统概论           0.677638\n",
      "上海师范大学 计算机科学与技术 数据库课程实践           0.579586\n",
      "上海师范大学 计算机科学与技术 离散数学              0.640156\n",
      "上海师范大学 计算机科学与技术 网络与通信             0.572816\n",
      "上海师范大学 计算机科学与技术 计算机图形学            0.554822\n",
      "上海师范大学 计算机科学与技术 软件工程              0.589984\n",
      "上海师范大学 计算机科学与技术 软件类课程设计           0.599437\n",
      "上海师范大学 计算机科学与技术 高级语言程序设计          0.698457\n",
      "哈尔滨工程大学 计算机科学与技术  软件工程课程设计        0.608420\n",
      "哈尔滨工程大学 计算机科学与技术 Android应用程序开发    0.634014\n",
      "哈尔滨工程大学 计算机科学与技术 IT英语             0.569879\n",
      "哈尔滨工程大学 计算机科学与技术 Java语言程序设计       0.582038\n",
      "哈尔滨工程大学 计算机科学与技术 Matlab与科学计算      0.596873\n",
      "哈尔滨工程大学 计算机科学与技术 RFID原理及应用        0.547905\n",
      "哈尔滨工程大学 计算机科学与技术 Web应用开发技术        0.599659\n",
      "哈尔滨工程大学 计算机科学与技术 专业实习             0.516620\n",
      "                                    ...   \n",
      "西南石油大学 计算机科学与技术 文献检索与利用           0.630758\n",
      "西南石油大学 计算机科学与技术 新生研讨课             0.599550\n",
      "西南石油大学 计算机科学与技术 桌面应用程序设计          0.643738\n",
      "西南石油大学 计算机科学与技术 概率统计（Ⅱ）           0.630081\n",
      "西南石油大学 计算机科学与技术 汇编语言程序设计          0.699975\n",
      "西南石油大学 计算机科学与技术 物理实验              0.634657\n",
      "西南石油大学 计算机科学与技术 物联网信息传输技术         0.639356\n",
      "西南石油大学 计算机科学与技术 离散结构              0.675282\n",
      "西南石油大学 计算机科学与技术 程序设计基础            0.677449\n",
      "西南石油大学 计算机科学与技术 程序设计实践            0.705078\n",
      "西南石油大学 计算机科学与技术 线性代数（Ⅱ）           0.602506\n",
      "西南石油大学 计算机科学与技术 编译原理              0.660539\n",
      "西南石油大学 计算机科学与技术 美国文化概要            0.576975\n",
      "西南石油大学 计算机科学与技术 自主和交互式学习          0.594135\n",
      "西南石油大学 计算机科学与技术 英语实践1             0.582132\n",
      "西南石油大学 计算机科学与技术 英语实践2             0.574241\n",
      "西南石油大学 计算机科学与技术 英语实践3             0.574455\n",
      "西南石油大学 计算机科学与技术 计算机体系结构           0.711650\n",
      "西南石油大学 计算机科学与技术 计算机图形学            0.667168\n",
      "西南石油大学 计算机科学与技术 计算机组成原理           0.659441\n",
      "西南石油大学 计算机科学与技术 计算机网络基础I          0.634693\n",
      "西南石油大学 计算机科学与技术 软件工程基础            0.620993\n",
      "西南石油大学 计算机科学与技术 软件自动化测试技术         0.630481\n",
      "西南石油大学 计算机科学与技术 软件项目管理            0.654229\n",
      "西南石油大学 计算机科学与技术 近代物理选讲            0.648324\n",
      "西南石油大学 计算机科学与技术 面向对象程序设计          0.628011\n",
      "西南石油大学 计算机科学与技术 马克思主义基本原理概论       0.564067\n",
      "西南石油大学 计算机科学与技术 高等数学(I-1)         0.635323\n",
      "西南石油大学 计算机科学与技术 高等数学(I-2)         0.623270\n",
      "西南石油大学 计算机科学与技术 高级英语听说            0.581894\n",
      "Name: 基础数据结构及算法, Length: 2676, dtype: float64\n",
      "算法策略 1\n",
      "上海师范大学 计算机科学与技术 C语言程序设计           0.630619\n",
      "上海师范大学 计算机科学与技术 C语言课程实践           0.683357\n",
      "上海师范大学 计算机科学与技术 UML与设计模式          0.693609\n",
      "上海师范大学 计算机科学与技术 Web程序设计           0.561718\n",
      "上海师范大学 计算机科学与技术 专业英语              0.586797\n",
      "上海师范大学 计算机科学与技术 云计算与物联网           0.580303\n",
      "上海师范大学 计算机科学与技术 信息学科竞赛教育          0.530852\n",
      "上海师范大学 计算机科学与技术 信息安全基础            0.588857\n",
      "上海师范大学 计算机科学与技术 复杂网络与社会计算概论       0.609688\n",
      "上海师范大学 计算机科学与技术 多媒体技术             0.546285\n",
      "上海师范大学 计算机科学与技术 嵌入式系统             0.625682\n",
      "上海师范大学 计算机科学与技术 操作系统              0.648150\n",
      "上海师范大学 计算机科学与技术 数字逻辑              0.574614\n",
      "上海师范大学 计算机科学与技术 数字逻辑课程实践          0.569823\n",
      "上海师范大学 计算机科学与技术 数据库系统概论           0.679199\n",
      "上海师范大学 计算机科学与技术 数据库课程实践           0.569326\n",
      "上海师范大学 计算机科学与技术 离散数学              0.637712\n",
      "上海师范大学 计算机科学与技术 网络与通信             0.599271\n",
      "上海师范大学 计算机科学与技术 计算机图形学            0.530717\n",
      "上海师范大学 计算机科学与技术 软件工程              0.660640\n",
      "上海师范大学 计算机科学与技术 软件类课程设计           0.650501\n",
      "上海师范大学 计算机科学与技术 高级语言程序设计          0.715999\n",
      "哈尔滨工程大学 计算机科学与技术  软件工程课程设计        0.661026\n",
      "哈尔滨工程大学 计算机科学与技术 Android应用程序开发    0.607313\n",
      "哈尔滨工程大学 计算机科学与技术 IT英语             0.549934\n",
      "哈尔滨工程大学 计算机科学与技术 Java语言程序设计       0.561634\n",
      "哈尔滨工程大学 计算机科学与技术 Matlab与科学计算      0.577456\n",
      "哈尔滨工程大学 计算机科学与技术 RFID原理及应用        0.575764\n",
      "哈尔滨工程大学 计算机科学与技术 Web应用开发技术        0.569704\n",
      "哈尔滨工程大学 计算机科学与技术 专业实习             0.514630\n",
      "                                    ...   \n",
      "西南石油大学 计算机科学与技术 文献检索与利用           0.650141\n",
      "西南石油大学 计算机科学与技术 新生研讨课             0.612759\n",
      "西南石油大学 计算机科学与技术 桌面应用程序设计          0.652707\n",
      "西南石油大学 计算机科学与技术 概率统计（Ⅱ）           0.615023\n",
      "西南石油大学 计算机科学与技术 汇编语言程序设计          0.731091\n",
      "西南石油大学 计算机科学与技术 物理实验              0.647307\n",
      "西南石油大学 计算机科学与技术 物联网信息传输技术         0.670847\n",
      "西南石油大学 计算机科学与技术 离散结构              0.767169\n",
      "西南石油大学 计算机科学与技术 程序设计基础            0.690161\n",
      "西南石油大学 计算机科学与技术 程序设计实践            0.683055\n",
      "西南石油大学 计算机科学与技术 线性代数（Ⅱ）           0.612830\n",
      "西南石油大学 计算机科学与技术 编译原理              0.727869\n",
      "西南石油大学 计算机科学与技术 美国文化概要            0.580436\n",
      "西南石油大学 计算机科学与技术 自主和交互式学习          0.597049\n",
      "西南石油大学 计算机科学与技术 英语实践1             0.569331\n",
      "西南石油大学 计算机科学与技术 英语实践2             0.571432\n",
      "西南石油大学 计算机科学与技术 英语实践3             0.571432\n",
      "西南石油大学 计算机科学与技术 计算机体系结构           0.671013\n",
      "西南石油大学 计算机科学与技术 计算机图形学            0.680412\n",
      "西南石油大学 计算机科学与技术 计算机组成原理           0.689353\n",
      "西南石油大学 计算机科学与技术 计算机网络基础I          0.677209\n",
      "西南石油大学 计算机科学与技术 软件工程基础            0.668928\n",
      "西南石油大学 计算机科学与技术 软件自动化测试技术         0.624727\n",
      "西南石油大学 计算机科学与技术 软件项目管理            0.675445\n",
      "西南石油大学 计算机科学与技术 近代物理选讲            0.626344\n",
      "西南石油大学 计算机科学与技术 面向对象程序设计          0.663906\n",
      "西南石油大学 计算机科学与技术 马克思主义基本原理概论       0.602857\n",
      "西南石油大学 计算机科学与技术 高等数学(I-1)         0.643651\n",
      "西南石油大学 计算机科学与技术 高等数学(I-2)         0.663881\n",
      "西南石油大学 计算机科学与技术 高级英语听说            0.587207\n",
      "Name: 算法策略, Length: 2676, dtype: float64\n"
     ]
    }
   ],
   "source": [
    "for course1 in standardNameList:\n",
    "    print(course1, standardNameList.index(course1))\n",
    "    coursePos1 = standardNameList.index(course1)\n",
    "    wordList1 = standardWords[coursePos1]\n",
    "    words1len = len(wordList1)\n",
    "    for course2 in courseNameList:\n",
    "        coursePos2 = courseNameList.index(course2)\n",
    "        wordList2 = courseWords[coursePos2]\n",
    "        words2len = len(wordList2)\n",
    "        # 课程间词之间的相似度矩阵\n",
    "        wordsSim = np.zeros((words1len, words2len))\n",
    "        for word1 in wordList1:\n",
    "            word1Pos = wordList1.index(word1)\n",
    "            for word2 in wordList2:\n",
    "                word2Pos = wordList2.index(word2)\n",
    "                # similarity = wordsAR[wordsUseful.index(word1)][wordsUseful.index(word2)]\n",
    "                similarity = wv.similarity(word1, word2)\n",
    "                wordsSim[word1Pos][word2Pos] = similarity\n",
    "        # 计算课程间相似度\n",
    "        distance = countDis(wordsSim, type=1)\n",
    "        courseSimDF.iloc[standardNameList.index(course1)][coursePos2] = distance\n",
    "#     print(courseSimDF.loc[course1,:])\n",
    "    storePath = r'D:\\zhangxin\\Course\\data\\standard\\courseSimSta.csv'\n",
    "    courseSimDF.to_csv(storePath, header=True, index=True, encoding='utf-8')"
   ]
  },
  {
   "cell_type": "code",
   "execution_count": 54,
   "metadata": {},
   "outputs": [],
   "source": [
    "storePath = r'D:\\zhangxin\\Course\\data\\standard\\courseSimSta.csv'\n",
    "courseSimDF.to_csv(storePath, header=True, index=True, encoding='utf-8')"
   ]
  },
  {
   "cell_type": "code",
   "execution_count": 50,
   "metadata": {},
   "outputs": [],
   "source": [
    "datas = courseSimDF.values.T"
   ]
  },
  {
   "cell_type": "code",
   "execution_count": 52,
   "metadata": {},
   "outputs": [
    {
     "data": {
      "text/html": [
       "<div>\n",
       "<style scoped>\n",
       "    .dataframe tbody tr th:only-of-type {\n",
       "        vertical-align: middle;\n",
       "    }\n",
       "\n",
       "    .dataframe tbody tr th {\n",
       "        vertical-align: top;\n",
       "    }\n",
       "\n",
       "    .dataframe thead th {\n",
       "        text-align: right;\n",
       "    }\n",
       "</style>\n",
       "<table border=\"1\" class=\"dataframe\">\n",
       "  <thead>\n",
       "    <tr style=\"text-align: right;\">\n",
       "      <th></th>\n",
       "      <th>0</th>\n",
       "      <th>1</th>\n",
       "    </tr>\n",
       "  </thead>\n",
       "  <tbody>\n",
       "    <tr>\n",
       "      <th>count</th>\n",
       "      <td>2676.000000</td>\n",
       "      <td>2676.000000</td>\n",
       "    </tr>\n",
       "    <tr>\n",
       "      <th>mean</th>\n",
       "      <td>0.607036</td>\n",
       "      <td>0.606396</td>\n",
       "    </tr>\n",
       "    <tr>\n",
       "      <th>std</th>\n",
       "      <td>0.044189</td>\n",
       "      <td>0.049379</td>\n",
       "    </tr>\n",
       "    <tr>\n",
       "      <th>min</th>\n",
       "      <td>0.460620</td>\n",
       "      <td>0.440251</td>\n",
       "    </tr>\n",
       "    <tr>\n",
       "      <th>25%</th>\n",
       "      <td>0.576472</td>\n",
       "      <td>0.572213</td>\n",
       "    </tr>\n",
       "    <tr>\n",
       "      <th>50%</th>\n",
       "      <td>0.604254</td>\n",
       "      <td>0.604586</td>\n",
       "    </tr>\n",
       "    <tr>\n",
       "      <th>75%</th>\n",
       "      <td>0.633542</td>\n",
       "      <td>0.634784</td>\n",
       "    </tr>\n",
       "    <tr>\n",
       "      <th>max</th>\n",
       "      <td>0.909250</td>\n",
       "      <td>0.918592</td>\n",
       "    </tr>\n",
       "  </tbody>\n",
       "</table>\n",
       "</div>"
      ],
      "text/plain": [
       "                 0            1\n",
       "count  2676.000000  2676.000000\n",
       "mean      0.607036     0.606396\n",
       "std       0.044189     0.049379\n",
       "min       0.460620     0.440251\n",
       "25%       0.576472     0.572213\n",
       "50%       0.604254     0.604586\n",
       "75%       0.633542     0.634784\n",
       "max       0.909250     0.918592"
      ]
     },
     "execution_count": 52,
     "metadata": {},
     "output_type": "execute_result"
    }
   ],
   "source": [
    "datasDF = pd.DataFrame(data = datas)\n",
    "datasDF.describe()"
   ]
  },
  {
   "cell_type": "markdown",
   "metadata": {},
   "source": [
    "## 学校评分 "
   ]
  },
  {
   "cell_type": "code",
   "execution_count": 9,
   "metadata": {},
   "outputs": [],
   "source": [
    "import pandas as pd\n",
    "sourcePath = r'D:\\zhangxin\\Course\\data\\standard\\courseSimSta.csv'\n",
    "courseSimDF = pd.read_csv(sourcePath, header=0, index_col=0, encoding='utf-8')"
   ]
  },
  {
   "cell_type": "code",
   "execution_count": 72,
   "metadata": {},
   "outputs": [],
   "source": [
    "import numpy as np\n",
    "standardLst = courseSimDF.index\n",
    "standardDF = pd.DataFrame(np.zeros((len(standardLst),2)),index=standardLst)\n",
    "for item in standardLst:\n",
    "    items = item.split()\n",
    "    standardDF.loc[item,0] = items[1]\n",
    "    standardDF.loc[item,1] = items[2]"
   ]
  },
  {
   "cell_type": "code",
   "execution_count": 56,
   "metadata": {},
   "outputs": [],
   "source": [
    "courseLst = courseSimDF.columns\n",
    "schoolSet = set()\n",
    "for item in courseLst:\n",
    "    items = item.split()\n",
    "    schoolSet.add(items[0])"
   ]
  },
  {
   "cell_type": "code",
   "execution_count": 36,
   "metadata": {},
   "outputs": [],
   "source": [
    "schoolJudgeDF = pd.DataFrame(np.zeros((len(standardLst),len(schoolSet))), index=standardLst, columns=schoolSet)"
   ]
  },
  {
   "cell_type": "code",
   "execution_count": 80,
   "metadata": {},
   "outputs": [
    {
     "name": "stderr",
     "output_type": "stream",
     "text": [
      "C:\\Users\\wiseben\\Anaconda3\\lib\\site-packages\\ipykernel_launcher.py:15: DeprecationWarning: \n",
      ".ix is deprecated. Please use\n",
      ".loc for label based indexing or\n",
      ".iloc for positional indexing\n",
      "\n",
      "See the documentation here:\n",
      "http://pandas.pydata.org/pandas-docs/stable/indexing.html#ix-indexer-is-deprecated\n",
      "  from ipykernel import kernelapp as app\n"
     ]
    },
    {
     "name": "stdout",
     "output_type": "stream",
     "text": [
      "             安徽大学      曲阜师范大学      上海师范大学        西南大学        潍坊学院      湖北理工学院  \\\n",
      "count  103.000000  103.000000  103.000000  103.000000  103.000000  103.000000   \n",
      "mean     2.327184    2.213324    2.021243    2.203790    2.146529    2.087917   \n",
      "std      1.970878    1.833772    1.688372    1.832264    1.788137    1.757787   \n",
      "min      0.724419    0.678376    0.649896    0.697119    0.660602    0.658036   \n",
      "25%      0.841202    0.817459    0.721795    0.812750    0.801151    0.758291   \n",
      "50%      1.609907    1.543572    1.407254    1.542117    1.494331    1.458831   \n",
      "75%      2.584169    2.472916    2.243106    2.401295    2.364615    2.267069   \n",
      "max     10.154349    9.137285    8.298147    9.244156    8.909268    9.071328   \n",
      "\n",
      "          哈尔滨工程大学      沈阳工业大学      广东海洋大学        广州大学      西南石油大学  \n",
      "count  103.000000  103.000000  103.000000  103.000000  103.000000  \n",
      "mean     2.027926    2.068183    2.223002    2.117982    2.234262  \n",
      "std      1.673093    1.717796    1.801165    1.768839    1.894729  \n",
      "min      0.641510    0.651376    0.716342    0.661959    0.675756  \n",
      "25%      0.754032    0.773828    0.840866    0.805275    0.816102  \n",
      "50%      1.408370    1.436318    1.586799    1.490916    1.558689  \n",
      "75%      2.258917    2.269585    2.387737    2.279413    2.432342  \n",
      "max      8.451208    8.659706    8.955726    8.994835    9.667628  \n"
     ]
    }
   ],
   "source": [
    "for school in schoolSet:\n",
    "    course = []\n",
    "    for item in courseLst:\n",
    "        items=item.split()\n",
    "        if items[0] == school:\n",
    "            course.append(item)\n",
    "    tempDF = pd.DataFrame(np.zeros((len(standardLst),len(course))), index=standardLst, columns=course)\n",
    "    for sta in standardLst:\n",
    "        for cou in course:\n",
    "            tempDF.loc[sta,cou] = courseSimDF.loc[sta,cou]\n",
    "    tempAr = tempDF.values\n",
    "    v1 = np.argmax(tempAr, axis=1)\n",
    "    v1 = tempAr[range(tempAr.shape[0]), v1]\n",
    "    for pos in range(len(v1)):\n",
    "        schoolJudgeDF.ix[pos,school] = v1[pos] * float(standardDF.iloc[pos,1])\n",
    "print(schoolJudgeDF.describe())"
   ]
  },
  {
   "cell_type": "code",
   "execution_count": 82,
   "metadata": {},
   "outputs": [],
   "source": [
    "schoolJudgeDF.to_csv('D:\\zhangxin\\Course\\data\\standard\\schoolJudge.csv',header=True, index=True, encoding='utf-8')"
   ]
  },
  {
   "cell_type": "code",
   "execution_count": 83,
   "metadata": {},
   "outputs": [],
   "source": [
    "schoolJudgeDF.describe().to_csv('D:\\zhangxin\\Course\\data\\standard\\schoolJudgeDes.csv',header=True, index=True, encoding='utf-8')"
   ]
  },
  {
   "cell_type": "markdown",
   "metadata": {},
   "source": [
    "## 学校评分差热力图 "
   ]
  },
  {
   "cell_type": "code",
   "execution_count": 1,
   "metadata": {},
   "outputs": [],
   "source": [
    "schoolLst = [\"曲阜师范大学\",\"西南石油大学\",\"湖北理工学院\",\"西南大学\",\"哈尔滨工程大学\",\"安徽大学\",\"广州大学\",\"潍坊学院\",\"沈阳工业大学\",\"上海师范大学\",\"广东海洋大学\"]\n",
    "scoreLst = [227.972331,230.129003,215.055431,226.990375,208.876343,239.699993,218.152162,221.092466,213.022799,208.188037,228.969198]"
   ]
  },
  {
   "cell_type": "code",
   "execution_count": 2,
   "metadata": {},
   "outputs": [],
   "source": [
    "import pandas as pd\n",
    "import numpy as np\n",
    "schoolDisDF = pd.DataFrame(index=schoolLst,columns=schoolLst,data=np.zeros((len(schoolLst),len(schoolLst))))"
   ]
  },
  {
   "cell_type": "code",
   "execution_count": 7,
   "metadata": {},
   "outputs": [
    {
     "data": {
      "text/html": [
       "<div>\n",
       "<style scoped>\n",
       "    .dataframe tbody tr th:only-of-type {\n",
       "        vertical-align: middle;\n",
       "    }\n",
       "\n",
       "    .dataframe tbody tr th {\n",
       "        vertical-align: top;\n",
       "    }\n",
       "\n",
       "    .dataframe thead th {\n",
       "        text-align: right;\n",
       "    }\n",
       "</style>\n",
       "<table border=\"1\" class=\"dataframe\">\n",
       "  <thead>\n",
       "    <tr style=\"text-align: right;\">\n",
       "      <th></th>\n",
       "      <th>曲阜师范大学</th>\n",
       "      <th>西南石油大学</th>\n",
       "      <th>湖北理工学院</th>\n",
       "      <th>西南大学</th>\n",
       "      <th>哈尔滨工程大学</th>\n",
       "      <th>安徽大学</th>\n",
       "      <th>广州大学</th>\n",
       "      <th>潍坊学院</th>\n",
       "      <th>沈阳工业大学</th>\n",
       "      <th>上海师范大学</th>\n",
       "      <th>广东海洋大学</th>\n",
       "    </tr>\n",
       "  </thead>\n",
       "  <tbody>\n",
       "    <tr>\n",
       "      <th>曲阜师范大学</th>\n",
       "      <td>1.000000</td>\n",
       "      <td>0.931560</td>\n",
       "      <td>0.590095</td>\n",
       "      <td>0.968839</td>\n",
       "      <td>0.394008</td>\n",
       "      <td>6.278345e-01</td>\n",
       "      <td>0.688367</td>\n",
       "      <td>0.781674</td>\n",
       "      <td>0.525592</td>\n",
       "      <td>3.721655e-01</td>\n",
       "      <td>0.968365</td>\n",
       "    </tr>\n",
       "    <tr>\n",
       "      <th>西南石油大学</th>\n",
       "      <td>0.931560</td>\n",
       "      <td>1.000000</td>\n",
       "      <td>0.521655</td>\n",
       "      <td>0.900399</td>\n",
       "      <td>0.325568</td>\n",
       "      <td>6.962743e-01</td>\n",
       "      <td>0.619927</td>\n",
       "      <td>0.713235</td>\n",
       "      <td>0.457152</td>\n",
       "      <td>3.037257e-01</td>\n",
       "      <td>0.963195</td>\n",
       "    </tr>\n",
       "    <tr>\n",
       "      <th>湖北理工学院</th>\n",
       "      <td>0.590095</td>\n",
       "      <td>0.521655</td>\n",
       "      <td>1.000000</td>\n",
       "      <td>0.621257</td>\n",
       "      <td>0.803913</td>\n",
       "      <td>2.179298e-01</td>\n",
       "      <td>0.901728</td>\n",
       "      <td>0.808421</td>\n",
       "      <td>0.935496</td>\n",
       "      <td>7.820702e-01</td>\n",
       "      <td>0.558461</td>\n",
       "    </tr>\n",
       "    <tr>\n",
       "      <th>西南大学</th>\n",
       "      <td>0.968839</td>\n",
       "      <td>0.900399</td>\n",
       "      <td>0.621257</td>\n",
       "      <td>1.000000</td>\n",
       "      <td>0.425170</td>\n",
       "      <td>5.966731e-01</td>\n",
       "      <td>0.719528</td>\n",
       "      <td>0.812836</td>\n",
       "      <td>0.556753</td>\n",
       "      <td>4.033269e-01</td>\n",
       "      <td>0.937204</td>\n",
       "    </tr>\n",
       "    <tr>\n",
       "      <th>哈尔滨工程大学</th>\n",
       "      <td>0.394008</td>\n",
       "      <td>0.325568</td>\n",
       "      <td>0.803913</td>\n",
       "      <td>0.425170</td>\n",
       "      <td>1.000000</td>\n",
       "      <td>2.184269e-02</td>\n",
       "      <td>0.705641</td>\n",
       "      <td>0.612334</td>\n",
       "      <td>0.868416</td>\n",
       "      <td>9.781573e-01</td>\n",
       "      <td>0.362374</td>\n",
       "    </tr>\n",
       "    <tr>\n",
       "      <th>安徽大学</th>\n",
       "      <td>0.627835</td>\n",
       "      <td>0.696274</td>\n",
       "      <td>0.217930</td>\n",
       "      <td>0.596673</td>\n",
       "      <td>0.021843</td>\n",
       "      <td>1.000000e+00</td>\n",
       "      <td>0.316201</td>\n",
       "      <td>0.409509</td>\n",
       "      <td>0.153426</td>\n",
       "      <td>1.110223e-16</td>\n",
       "      <td>0.659469</td>\n",
       "    </tr>\n",
       "    <tr>\n",
       "      <th>广州大学</th>\n",
       "      <td>0.688367</td>\n",
       "      <td>0.619927</td>\n",
       "      <td>0.901728</td>\n",
       "      <td>0.719528</td>\n",
       "      <td>0.705641</td>\n",
       "      <td>3.162014e-01</td>\n",
       "      <td>1.000000</td>\n",
       "      <td>0.906692</td>\n",
       "      <td>0.837225</td>\n",
       "      <td>6.837986e-01</td>\n",
       "      <td>0.656732</td>\n",
       "    </tr>\n",
       "    <tr>\n",
       "      <th>潍坊学院</th>\n",
       "      <td>0.781674</td>\n",
       "      <td>0.713235</td>\n",
       "      <td>0.808421</td>\n",
       "      <td>0.812836</td>\n",
       "      <td>0.612334</td>\n",
       "      <td>4.095090e-01</td>\n",
       "      <td>0.906692</td>\n",
       "      <td>1.000000</td>\n",
       "      <td>0.743917</td>\n",
       "      <td>5.904910e-01</td>\n",
       "      <td>0.750040</td>\n",
       "    </tr>\n",
       "    <tr>\n",
       "      <th>沈阳工业大学</th>\n",
       "      <td>0.525592</td>\n",
       "      <td>0.457152</td>\n",
       "      <td>0.935496</td>\n",
       "      <td>0.556753</td>\n",
       "      <td>0.868416</td>\n",
       "      <td>1.534263e-01</td>\n",
       "      <td>0.837225</td>\n",
       "      <td>0.743917</td>\n",
       "      <td>1.000000</td>\n",
       "      <td>8.465737e-01</td>\n",
       "      <td>0.493957</td>\n",
       "    </tr>\n",
       "    <tr>\n",
       "      <th>上海师范大学</th>\n",
       "      <td>0.372165</td>\n",
       "      <td>0.303726</td>\n",
       "      <td>0.782070</td>\n",
       "      <td>0.403327</td>\n",
       "      <td>0.978157</td>\n",
       "      <td>1.110223e-16</td>\n",
       "      <td>0.683799</td>\n",
       "      <td>0.590491</td>\n",
       "      <td>0.846574</td>\n",
       "      <td>1.000000e+00</td>\n",
       "      <td>0.340531</td>\n",
       "    </tr>\n",
       "    <tr>\n",
       "      <th>广东海洋大学</th>\n",
       "      <td>0.968365</td>\n",
       "      <td>0.963195</td>\n",
       "      <td>0.558461</td>\n",
       "      <td>0.937204</td>\n",
       "      <td>0.362374</td>\n",
       "      <td>6.594691e-01</td>\n",
       "      <td>0.656732</td>\n",
       "      <td>0.750040</td>\n",
       "      <td>0.493957</td>\n",
       "      <td>3.405309e-01</td>\n",
       "      <td>1.000000</td>\n",
       "    </tr>\n",
       "  </tbody>\n",
       "</table>\n",
       "</div>"
      ],
      "text/plain": [
       "           曲阜师范大学    西南石油大学    湖北理工学院      西南大学   哈尔滨工程大学          安徽大学  \\\n",
       "曲阜师范大学   1.000000  0.931560  0.590095  0.968839  0.394008  6.278345e-01   \n",
       "西南石油大学   0.931560  1.000000  0.521655  0.900399  0.325568  6.962743e-01   \n",
       "湖北理工学院   0.590095  0.521655  1.000000  0.621257  0.803913  2.179298e-01   \n",
       "西南大学     0.968839  0.900399  0.621257  1.000000  0.425170  5.966731e-01   \n",
       "哈尔滨工程大学  0.394008  0.325568  0.803913  0.425170  1.000000  2.184269e-02   \n",
       "安徽大学     0.627835  0.696274  0.217930  0.596673  0.021843  1.000000e+00   \n",
       "广州大学     0.688367  0.619927  0.901728  0.719528  0.705641  3.162014e-01   \n",
       "潍坊学院     0.781674  0.713235  0.808421  0.812836  0.612334  4.095090e-01   \n",
       "沈阳工业大学   0.525592  0.457152  0.935496  0.556753  0.868416  1.534263e-01   \n",
       "上海师范大学   0.372165  0.303726  0.782070  0.403327  0.978157  1.110223e-16   \n",
       "广东海洋大学   0.968365  0.963195  0.558461  0.937204  0.362374  6.594691e-01   \n",
       "\n",
       "             广州大学      潍坊学院    沈阳工业大学        上海师范大学    广东海洋大学  \n",
       "曲阜师范大学   0.688367  0.781674  0.525592  3.721655e-01  0.968365  \n",
       "西南石油大学   0.619927  0.713235  0.457152  3.037257e-01  0.963195  \n",
       "湖北理工学院   0.901728  0.808421  0.935496  7.820702e-01  0.558461  \n",
       "西南大学     0.719528  0.812836  0.556753  4.033269e-01  0.937204  \n",
       "哈尔滨工程大学  0.705641  0.612334  0.868416  9.781573e-01  0.362374  \n",
       "安徽大学     0.316201  0.409509  0.153426  1.110223e-16  0.659469  \n",
       "广州大学     1.000000  0.906692  0.837225  6.837986e-01  0.656732  \n",
       "潍坊学院     0.906692  1.000000  0.743917  5.904910e-01  0.750040  \n",
       "沈阳工业大学   0.837225  0.743917  1.000000  8.465737e-01  0.493957  \n",
       "上海师范大学   0.683799  0.590491  0.846574  1.000000e+00  0.340531  \n",
       "广东海洋大学   0.656732  0.750040  0.493957  3.405309e-01  1.000000  "
      ]
     },
     "execution_count": 7,
     "metadata": {},
     "output_type": "execute_result"
    }
   ],
   "source": [
    "for i in range(len(schoolLst)):\n",
    "    for j in range(i,len(schoolLst)):\n",
    "        result = 1-abs(scoreLst[i]-scoreLst[j])/31.511956\n",
    "        schoolDisDF.iloc[i,j] = result\n",
    "        schoolDisDF.iloc[j,i] = result\n",
    "schoolDisDF"
   ]
  },
  {
   "cell_type": "code",
   "execution_count": 8,
   "metadata": {},
   "outputs": [
    {
     "data": {
      "text/plain": [
       "<matplotlib.axes._subplots.AxesSubplot at 0x1c625c30e48>"
      ]
     },
     "execution_count": 8,
     "metadata": {},
     "output_type": "execute_result"
    },
    {
     "data": {
      "image/png": "[encoded data removed]",
      "text/plain": [
       "<Figure size 648x432 with 2 Axes>"
      ]
     },
     "metadata": {},
     "output_type": "display_data"
    }
   ],
   "source": [
    "%matplotlib inline\n",
    "import matplotlib.pyplot as plt\n",
    "import seaborn as sns\n",
    "import matplotlib.font_manager as fm\n",
    "sns.set(font='STSong')  # 解决中文字体显示\n",
    "f, ax = plt.subplots(figsize=(9, 6))\n",
    "sns.heatmap(schoolDisDF, annot=True, linewidths=.5, ax=ax, cmap=\"vlag\")"
   ]
  }
 ],
 "metadata": {
  "kernelspec": {
   "display_name": "Python 3",
   "language": "python",
   "name": "python3"
  },
  "language_info": {
   "codemirror_mode": {
    "name": "ipython",
    "version": 3
   },
   "file_extension": ".py",
   "mimetype": "text/x-python",
   "name": "python",
   "nbconvert_exporter": "python",
   "pygments_lexer": "ipython3",
   "version": "3.7.0"
  }
 },
 "nbformat": 4,
 "nbformat_minor": 2
}
